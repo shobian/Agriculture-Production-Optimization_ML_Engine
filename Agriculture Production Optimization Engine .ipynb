{
 "cells": [
  {
   "cell_type": "markdown",
   "source": [
    "Importing the Libraries"
   ],
   "metadata": {
    "collapsed": false
   }
  },
  {
   "cell_type": "code",
   "execution_count": 2,
   "id": "e5ce9623",
   "metadata": {},
   "outputs": [],
   "source": [
    "import pandas as pd\n",
    "import numpy as np\n",
    "\n",
    "import seaborn as sns\n",
    "import matplotlib.pyplot as plt\n",
    "\n",
    "from ipywidgets import interact\n",
    "import sklearn"
   ]
  },
  {
   "cell_type": "code",
   "execution_count": 3,
   "outputs": [],
   "source": [
    "#reading the datset\n",
    "data = pd.read_csv(\"plant data.csv\")"
   ],
   "metadata": {
    "collapsed": false
   }
  },
  {
   "cell_type": "code",
   "execution_count": 7,
   "outputs": [
    {
     "data": {
      "text/plain": "(2200, 8)"
     },
     "execution_count": 7,
     "metadata": {},
     "output_type": "execute_result"
    }
   ],
   "source": [
    "#checking the data set\n",
    "data.shape"
   ],
   "metadata": {
    "collapsed": false
   }
  },
  {
   "cell_type": "code",
   "execution_count": 8,
   "outputs": [
    {
     "data": {
      "text/plain": "    N   P   K  temperature   humidity        ph    rainfall label\n0  90  42  43    20.879744  82.002744  6.502985  202.935536  rice\n1  85  58  41    21.770462  80.319644  7.038096  226.655537  rice\n2  60  55  44    23.004459  82.320763  7.840207  263.964248  rice\n3  74  35  40    26.491096  80.158363  6.980401  242.864034  rice\n4  78  42  42    20.130175  81.604873  7.628473  262.717340  rice",
      "text/html": "<div>\n<style scoped>\n    .dataframe tbody tr th:only-of-type {\n        vertical-align: middle;\n    }\n\n    .dataframe tbody tr th {\n        vertical-align: top;\n    }\n\n    .dataframe thead th {\n        text-align: right;\n    }\n</style>\n<table border=\"1\" class=\"dataframe\">\n  <thead>\n    <tr style=\"text-align: right;\">\n      <th></th>\n      <th>N</th>\n      <th>P</th>\n      <th>K</th>\n      <th>temperature</th>\n      <th>humidity</th>\n      <th>ph</th>\n      <th>rainfall</th>\n      <th>label</th>\n    </tr>\n  </thead>\n  <tbody>\n    <tr>\n      <th>0</th>\n      <td>90</td>\n      <td>42</td>\n      <td>43</td>\n      <td>20.879744</td>\n      <td>82.002744</td>\n      <td>6.502985</td>\n      <td>202.935536</td>\n      <td>rice</td>\n    </tr>\n    <tr>\n      <th>1</th>\n      <td>85</td>\n      <td>58</td>\n      <td>41</td>\n      <td>21.770462</td>\n      <td>80.319644</td>\n      <td>7.038096</td>\n      <td>226.655537</td>\n      <td>rice</td>\n    </tr>\n    <tr>\n      <th>2</th>\n      <td>60</td>\n      <td>55</td>\n      <td>44</td>\n      <td>23.004459</td>\n      <td>82.320763</td>\n      <td>7.840207</td>\n      <td>263.964248</td>\n      <td>rice</td>\n    </tr>\n    <tr>\n      <th>3</th>\n      <td>74</td>\n      <td>35</td>\n      <td>40</td>\n      <td>26.491096</td>\n      <td>80.158363</td>\n      <td>6.980401</td>\n      <td>242.864034</td>\n      <td>rice</td>\n    </tr>\n    <tr>\n      <th>4</th>\n      <td>78</td>\n      <td>42</td>\n      <td>42</td>\n      <td>20.130175</td>\n      <td>81.604873</td>\n      <td>7.628473</td>\n      <td>262.717340</td>\n      <td>rice</td>\n    </tr>\n  </tbody>\n</table>\n</div>"
     },
     "execution_count": 8,
     "metadata": {},
     "output_type": "execute_result"
    }
   ],
   "source": [
    "#checking the head of the data set\n",
    "data.head()"
   ],
   "metadata": {
    "collapsed": false
   }
  },
  {
   "cell_type": "code",
   "execution_count": 9,
   "outputs": [
    {
     "data": {
      "text/plain": "N              0\nP              0\nK              0\ntemperature    0\nhumidity       0\nph             0\nrainfall       0\nlabel          0\ndtype: int64"
     },
     "execution_count": 9,
     "metadata": {},
     "output_type": "execute_result"
    }
   ],
   "source": [
    "#checking for the null values in the data set\n",
    "data.isnull().sum()"
   ],
   "metadata": {
    "collapsed": false
   }
  },
  {
   "cell_type": "code",
   "execution_count": 12,
   "outputs": [
    {
     "data": {
      "text/plain": "rice           100\nmaize          100\njute           100\ncotton         100\ncoconut        100\npapaya         100\norange         100\napple          100\nmuskmelon      100\nwatermelon     100\ngrapes         100\nmango          100\nbanana         100\npomegranate    100\nlentil         100\nblackgram      100\nmungbean       100\nmothbeans      100\npigeonpeas     100\nkidneybeans    100\nchickpea       100\ncoffee         100\nName: label, dtype: int64"
     },
     "execution_count": 12,
     "metadata": {},
     "output_type": "execute_result"
    }
   ],
   "source": [
    "#checking the crops count\n",
    "data[\"label\"].value_counts()"
   ],
   "metadata": {
    "collapsed": false
   }
  },
  {
   "cell_type": "code",
   "execution_count": 16,
   "outputs": [
    {
     "name": "stdout",
     "output_type": "stream",
     "text": [
      "Average ratio of the Nitrogen in the soil: 50.55\n",
      "Average ratio of the Phosphorus in the soil: 53.36\n",
      "Average ratio of the Potassium in the soil: 48.15\n",
      "Average ratio of the Temperature in Cel: 25.62\n",
      "Average ratio of the Humidity % in the soil: 71.48\n",
      "Average ratio of the Ph level in the soil: 6.47\n",
      "Average ratio of the Rainfall in mm: 103.46\n"
     ]
    }
   ],
   "source": [
    "#playing to see some avarage value stats\n",
    "\n",
    "print(\"Average ratio of the Nitrogen in the soil: {0:.2f}\".format(data[\"N\"].mean()))\n",
    "print(\"Average ratio of the Phosphorus in the soil: {0:.2f}\".format(data[\"P\"].mean()))\n",
    "print(\"Average ratio of the Potassium in the soil: {0:.2f}\".format(data[\"K\"].mean()))\n",
    "print(\"Average ratio of the Temperature in Cel: {0:.2f}\".format(data[\"temperature\"].mean()))\n",
    "print(\"Average ratio of the Humidity % in the soil: {0:.2f}\".format(data[\"humidity\"].mean()))\n",
    "print(\"Average ratio of the Ph level in the soil: {0:.2f}\".format(data[\"ph\"].mean()))\n",
    "print(\"Average ratio of the Rainfall in mm: {0:.2f}\".format(data[\"rainfall\"].mean()))"
   ],
   "metadata": {
    "collapsed": false
   }
  },
  {
   "cell_type": "code",
   "execution_count": 18,
   "outputs": [
    {
     "data": {
      "text/plain": "interactive(children=(Dropdown(description='crops', options=('rice', 'maize', 'jute', 'cotton', 'coconut', 'pa…",
      "application/vnd.jupyter.widget-view+json": {
       "version_major": 2,
       "version_minor": 0,
       "model_id": "456b4d19ae974a04b7bb2ff6c4332fee"
      }
     },
     "metadata": {},
     "output_type": "display_data"
    }
   ],
   "source": [
    "# checking the stat summary for each crop using interact\n",
    "\n",
    "@interact\n",
    "def crop_summary(crops = list(data[\"label\"].value_counts().index)):\n",
    "    x =data[data[\"label\"] == crops]\n",
    "    print(\"\\n.......................................................\")\n",
    "    print (\"Stats for Nitrogen\")\n",
    "    print(\"The Minimum Nitrogen required: \", x['N'].min())\n",
    "    print(\"The Average Nitrogen required: \", x['N'].mean())\n",
    "    print(\"The Maximum Nitrogen required: \", x['N'].max())\n",
    "    print(\"\\n.......................................................\")\n",
    "    print (\"Stats for Phosphorus\")\n",
    "    print(\"The Minimum Phosphorus required: \", x['P'].min())\n",
    "    print(\"The Average Phosphorus required: \", x['P'].mean())\n",
    "    print(\"The Maximum Phosphorus required: \", x['P'].max())\n",
    "    print(\"\\n.......................................................\")\n",
    "    print (\"Stats for Potassium\")\n",
    "    print(\"The Minimum Potassium required: \", x['K'].min())\n",
    "    print(\"The Average Potassium required: \", x['K'].mean())\n",
    "    print(\"The Maximum Potassium required: \", x['K'].max())\n",
    "    print(\"\\n.......................................................\")\n",
    "    print (\"Stats for Temperature\")\n",
    "    print(\"The Minimum Temperature required: \", x['temperature'].min())\n",
    "    print(\"The Average Temperature required: \", x['temperature'].mean())\n",
    "    print(\"The Maximum Temperature required: \", x['temperature'].max())\n",
    "    print(\"\\n.......................................................\")\n",
    "    print (\"Stats for Humidity % \")\n",
    "    print(\"The Minimum Humidity %  required: \", x['humidity'].min())\n",
    "    print(\"The Average Humidity %  required: \", x['humidity'].mean())\n",
    "    print(\"The Maximum Humidity %  required: \", x['humidity'].max())\n",
    "    print(\"\\n.......................................................\")\n",
    "    print (\"Stats for Ph level\")\n",
    "    print(\"The Minimum Ph level required: \", x['ph'].min())\n",
    "    print(\"The Average Ph level required: \", x['ph'].mean())\n",
    "    print(\"The Maximum Ph level required: \", x['ph'].max())\n",
    "    print(\"\\n.......................................................\")\n",
    "    print (\"Stats for Rainfall\")\n",
    "    print(\"The Minimum Rainfall required: \", x['rainfall'].min())\n",
    "    print(\"The Average Rainfall required: \", x['rainfall'].mean())\n",
    "    print(\"The Maximum Rainfall required: \", x['rainfall'].max())"
   ],
   "metadata": {
    "collapsed": false
   }
  },
  {
   "cell_type": "code",
   "execution_count": 27,
   "outputs": [
    {
     "data": {
      "text/plain": "interactive(children=(Dropdown(description='conditions', options=('N', 'P', 'K', 'temperature', 'humidity', 'p…",
      "application/vnd.jupyter.widget-view+json": {
       "version_major": 2,
       "version_minor": 0,
       "model_id": "8e2e3b72e5434417a7313ebe4312fa3d"
      }
     },
     "metadata": {},
     "output_type": "display_data"
    }
   ],
   "source": [
    "#comparing the crop on above and below averege level\n",
    "\n",
    "@interact\n",
    "def compare(conditions = [\"N\", \"P\", \"K\", \"temperature\", \"humidity\", \"ph\", \"rainfall\"]):\n",
    "    print(\"The average value for \", conditions,\"is {0:2f}\".format(data[conditions].mean()))\n",
    "    print(\"\\n.......................................................\\n\")\n",
    "\n",
    "    print(\"Crops which require greater than average \",conditions,\"\\n\")\n",
    "    print(data[data[conditions] > data[conditions].mean()][\"label\"].unique())\n",
    "    print(\"\\n.......................................................\\n\")\n",
    "\n",
    "    print(\"Crops which require lesser than average \",conditions,\"\\n\")\n",
    "    print(data[data[conditions] <= data[conditions].mean()][\"label\"].unique())"
   ],
   "metadata": {
    "collapsed": false
   }
  },
  {
   "cell_type": "markdown",
   "source": [
    "# Distribution"
   ],
   "metadata": {
    "collapsed": false
   }
  },
  {
   "cell_type": "code",
   "execution_count": 21,
   "outputs": [],
   "source": [],
   "metadata": {
    "collapsed": false
   }
  },
  {
   "cell_type": "code",
   "execution_count": 19,
   "outputs": [],
   "source": [],
   "metadata": {
    "collapsed": false
   }
  }
 ],
 "metadata": {
  "kernelspec": {
   "display_name": "Python 3 (ipykernel)",
   "language": "python",
   "name": "python3"
  },
  "language_info": {
   "codemirror_mode": {
    "name": "ipython",
    "version": 3
   },
   "file_extension": ".py",
   "mimetype": "text/x-python",
   "name": "python",
   "nbconvert_exporter": "python",
   "pygments_lexer": "ipython3",
   "version": "3.10.4"
  }
 },
 "nbformat": 4,
 "nbformat_minor": 5
}
